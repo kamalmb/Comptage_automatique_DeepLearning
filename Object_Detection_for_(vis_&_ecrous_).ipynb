{
  "cells": [
    {
      "cell_type": "markdown",
      "metadata": {
        "id": "G56tdDJvVc_F"
      },
      "source": [
        "<a href=\"https://colab.research.google.com/github/khanhlvg/tflite_raspberry_pi/blob/main/object_detection/Train_custom_model_tutorial.ipynb\" target=\"_parent\"><img src=\"https://colab.research.google.com/assets/colab-badge.svg\" alt=\"Open In Colab\"/></a>"
      ]
    },
    {
      "cell_type": "code",
      "execution_count": null,
      "metadata": {
        "colab": {
          "base_uri": "https://localhost:8080/"
        },
        "id": "35BJmtVpAP_n",
        "outputId": "f52bced9-506b-42f4-9283-1320670af630"
      },
      "outputs": [
        {
          "output_type": "stream",
          "name": "stdout",
          "text": [
            "\u001b[2K     \u001b[90m━━━━━━━━━━━━━━━━━━━━━━━━━━━━━━━━━━━━━━\u001b[0m \u001b[32m577.3/577.3 KB\u001b[0m \u001b[31m10.3 MB/s\u001b[0m eta \u001b[36m0:00:00\u001b[0m\n",
            "\u001b[2K     \u001b[90m━━━━━━━━━━━━━━━━━━━━━━━━━━━━━━━━━━━━━━━━\u001b[0m \u001b[32m1.3/1.3 MB\u001b[0m \u001b[31m40.3 MB/s\u001b[0m eta \u001b[36m0:00:00\u001b[0m\n",
            "\u001b[2K     \u001b[90m━━━━━━━━━━━━━━━━━━━━━━━━━━━━━━━━━━━━━━━━\u001b[0m \u001b[32m77.5/77.5 KB\u001b[0m \u001b[31m4.0 MB/s\u001b[0m eta \u001b[36m0:00:00\u001b[0m\n",
            "\u001b[2K     \u001b[90m━━━━━━━━━━━━━━━━━━━━━━━━━━━━━━━━━━━━━━━━\u001b[0m \u001b[32m10.9/10.9 MB\u001b[0m \u001b[31m67.8 MB/s\u001b[0m eta \u001b[36m0:00:00\u001b[0m\n",
            "\u001b[2K     \u001b[90m━━━━━━━━━━━━━━━━━━━━━━━━━━━━━━━━━━━━━━━━\u001b[0m \u001b[32m88.3/88.3 KB\u001b[0m \u001b[31m5.6 MB/s\u001b[0m eta \u001b[36m0:00:00\u001b[0m\n",
            "\u001b[?25h  Preparing metadata (setup.py) ... \u001b[?25l\u001b[?25hdone\n",
            "\u001b[2K     \u001b[90m━━━━━━━━━━━━━━━━━━━━━━━━━━━━━━━━━━━━━━━━\u001b[0m \u001b[32m3.4/3.4 MB\u001b[0m \u001b[31m58.1 MB/s\u001b[0m eta \u001b[36m0:00:00\u001b[0m\n",
            "\u001b[2K     \u001b[90m━━━━━━━━━━━━━━━━━━━━━━━━━━━━━━━━━━━━━━━━\u001b[0m \u001b[32m1.1/1.1 MB\u001b[0m \u001b[31m41.7 MB/s\u001b[0m eta \u001b[36m0:00:00\u001b[0m\n",
            "\u001b[2K     \u001b[90m━━━━━━━━━━━━━━━━━━━━━━━━━━━━━━━━━━━━━━━━\u001b[0m \u001b[32m60.8/60.8 MB\u001b[0m \u001b[31m13.2 MB/s\u001b[0m eta \u001b[36m0:00:00\u001b[0m\n",
            "\u001b[2K     \u001b[90m━━━━━━━━━━━━━━━━━━━━━━━━━━━━━━━━━━━━━━\u001b[0m \u001b[32m238.9/238.9 KB\u001b[0m \u001b[31m10.6 MB/s\u001b[0m eta \u001b[36m0:00:00\u001b[0m\n",
            "\u001b[2K     \u001b[90m━━━━━━━━━━━━━━━━━━━━━━━━━━━━━━━━━━━━━━\u001b[0m \u001b[32m840.9/840.9 KB\u001b[0m \u001b[31m16.8 MB/s\u001b[0m eta \u001b[36m0:00:00\u001b[0m\n",
            "\u001b[2K     \u001b[90m━━━━━━━━━━━━━━━━━━━━━━━━━━━━━━━━━━━━━━━\u001b[0m \u001b[32m128.6/128.6 KB\u001b[0m \u001b[31m7.5 MB/s\u001b[0m eta \u001b[36m0:00:00\u001b[0m\n",
            "\u001b[2K     \u001b[90m━━━━━━━━━━━━━━━━━━━━━━━━━━━━━━━━━━━━━━━━\u001b[0m \u001b[32m25.3/25.3 MB\u001b[0m \u001b[31m29.7 MB/s\u001b[0m eta \u001b[36m0:00:00\u001b[0m\n",
            "\u001b[2K     \u001b[90m━━━━━━━━━━━━━━━━━━━━━━━━━━━━━━━━━━━━━━━\u001b[0m \u001b[32m498.0/498.0 MB\u001b[0m \u001b[31m2.4 MB/s\u001b[0m eta \u001b[36m0:00:00\u001b[0m\n",
            "\u001b[2K     \u001b[90m━━━━━━━━━━━━━━━━━━━━━━━━━━━━━━━━━━━━━━\u001b[0m \u001b[32m352.1/352.1 KB\u001b[0m \u001b[31m36.6 MB/s\u001b[0m eta \u001b[36m0:00:00\u001b[0m\n",
            "\u001b[2K     \u001b[90m━━━━━━━━━━━━━━━━━━━━━━━━━━━━━━━━━━━━━━━━\u001b[0m \u001b[32m1.4/1.4 MB\u001b[0m \u001b[31m78.4 MB/s\u001b[0m eta \u001b[36m0:00:00\u001b[0m\n",
            "\u001b[2K     \u001b[90m━━━━━━━━━━━━━━━━━━━━━━━━━━━━━━━━━━━━━━\u001b[0m \u001b[32m462.3/462.3 KB\u001b[0m \u001b[31m44.0 MB/s\u001b[0m eta \u001b[36m0:00:00\u001b[0m\n",
            "\u001b[2K     \u001b[90m━━━━━━━━━━━━━━━━━━━━━━━━━━━━━━━━━━━━━━━━\u001b[0m \u001b[32m5.8/5.8 MB\u001b[0m \u001b[31m90.5 MB/s\u001b[0m eta \u001b[36m0:00:00\u001b[0m\n",
            "\u001b[2K     \u001b[90m━━━━━━━━━━━━━━━━━━━━━━━━━━━━━━━━━━━━━━━━\u001b[0m \u001b[32m42.6/42.6 KB\u001b[0m \u001b[31m5.1 MB/s\u001b[0m eta \u001b[36m0:00:00\u001b[0m\n",
            "\u001b[2K     \u001b[90m━━━━━━━━━━━━━━━━━━━━━━━━━━━━━━━━━━━━━━━━\u001b[0m \u001b[32m40.9/40.9 KB\u001b[0m \u001b[31m4.7 MB/s\u001b[0m eta \u001b[36m0:00:00\u001b[0m\n",
            "\u001b[2K     \u001b[90m━━━━━━━━━━━━━━━━━━━━━━━━━━━━━━━━━━━━━━\u001b[0m \u001b[32m222.4/222.4 KB\u001b[0m \u001b[31m26.9 MB/s\u001b[0m eta \u001b[36m0:00:00\u001b[0m\n",
            "\u001b[?25h  Building wheel for fire (setup.py) ... \u001b[?25l\u001b[?25hdone\n",
            "\u001b[31mERROR: pip's dependency resolver does not currently take into account all the packages that are installed. This behaviour is the source of the following dependency conflicts.\n",
            "xarray 2022.12.0 requires packaging>=21.3, but you have packaging 20.9 which is incompatible.\u001b[0m\u001b[31m\n",
            "Reading package lists... Done\n",
            "Building dependency tree       \n",
            "Reading state information... Done\n",
            "The following package was automatically installed and is no longer required:\n",
            "  libnvidia-common-510\n",
            "Use 'apt autoremove' to remove it.\n",
            "The following NEW packages will be installed:\n",
            "  libportaudio2\n",
            "0 upgraded, 1 newly installed, 0 to remove and 21 not upgraded.\n",
            "Need to get 65.4 kB of archives.\n",
            "After this operation, 223 kB of additional disk space will be used.\n",
            "Get:1 http://archive.ubuntu.com/ubuntu focal/universe amd64 libportaudio2 amd64 19.6.0-1build1 [65.4 kB]\n",
            "Fetched 65.4 kB in 0s (217 kB/s)\n",
            "Selecting previously unselected package libportaudio2:amd64.\n",
            "(Reading database ... 128126 files and directories currently installed.)\n",
            "Preparing to unpack .../libportaudio2_19.6.0-1build1_amd64.deb ...\n",
            "Unpacking libportaudio2:amd64 (19.6.0-1build1) ...\n",
            "Setting up libportaudio2:amd64 (19.6.0-1build1) ...\n",
            "Processing triggers for libc-bin (2.31-0ubuntu9.9) ...\n"
          ]
        }
      ],
      "source": [
        "!pip install -q tflite-model-maker\n",
        "!pip install -q tflite-support\n",
        "!apt-get install libportaudio2"
      ]
    },
    {
      "cell_type": "markdown",
      "metadata": {
        "id": "prQ86DdtD317"
      },
      "source": [
        "Import the required packages."
      ]
    },
    {
      "cell_type": "code",
      "execution_count": null,
      "metadata": {
        "id": "l4QQTXHHATDS",
        "colab": {
          "base_uri": "https://localhost:8080/"
        },
        "outputId": "6a08d6bb-bf24-4c92-bde9-ea29ccab18ea"
      },
      "outputs": [
        {
          "output_type": "stream",
          "name": "stderr",
          "text": [
            "/usr/local/lib/python3.8/dist-packages/tensorflow_addons/utils/ensure_tf_install.py:53: UserWarning: Tensorflow Addons supports using Python ops for all Tensorflow versions above or equal to 2.9.0 and strictly below 2.12.0 (nightly versions are not supported). \n",
            " The versions of TensorFlow you are currently using is 2.8.4 and is not supported. \n",
            "Some things might work, some things might not.\n",
            "If you were to encounter a bug, do not file an issue.\n",
            "If you want to make sure you're using a tested and supported configuration, either change the TensorFlow version or the TensorFlow Addons's version. \n",
            "You can find the compatibility matrix in TensorFlow Addon's readme:\n",
            "https://github.com/tensorflow/addons\n",
            "  warnings.warn(\n"
          ]
        }
      ],
      "source": [
        "import numpy as np\n",
        "import os\n",
        "\n",
        "from tflite_model_maker.config import ExportFormat, QuantizationConfig\n",
        "from tflite_model_maker import model_spec\n",
        "from tflite_model_maker import object_detector\n",
        "\n",
        "from tflite_support import metadata\n",
        "\n",
        "import tensorflow as tf\n",
        "assert tf.__version__.startswith('2')\n",
        "\n",
        "tf.get_logger().setLevel('ERROR')\n",
        "from absl import logging\n",
        "logging.set_verbosity(logging.ERROR)"
      ]
    },
    {
      "cell_type": "markdown",
      "metadata": {
        "id": "3g6aQvXsD78P"
      },
      "source": [
        "### Prepare the dataset\n",
        "\n",
        "This dataset contains about 500 images and 500 xml files that describe the object we want to detect in the pictures.\n",
        "\n",
        "\n",
        "We start with uploading the dataset."
      ]
    },
    {
      "cell_type": "code",
      "execution_count": null,
      "metadata": {
        "id": "8AGg7D4JAV62"
      },
      "outputs": [],
      "source": [
        "!unzip -q data2.zip"
      ]
    },
    {
      "cell_type": "code",
      "source": [
        "from google.colab import drive\n",
        "drive.mount('/content/drive')"
      ],
      "metadata": {
        "id": "jmvG_SoaW1II",
        "outputId": "b846f1b2-46b2-4eeb-c298-93f725f38a94",
        "colab": {
          "base_uri": "https://localhost:8080/"
        }
      },
      "execution_count": null,
      "outputs": [
        {
          "output_type": "stream",
          "name": "stdout",
          "text": [
            "Mounted at /content/drive\n"
          ]
        }
      ]
    },
    {
      "cell_type": "markdown",
      "metadata": {
        "id": "Yxh3KInCFeB-"
      },
      "source": [
        "## Train the object detection model\n",
        "\n",
        "### Step 1: Load the dataset\n",
        "\n",
        "* Images in `train_data` is used to train the custom object detection model.\n",
        "* Images in `val_data` is used to check if the model can generalize well to new images that it hasn't seen before."
      ]
    },
    {
      "cell_type": "code",
      "execution_count": null,
      "metadata": {
        "id": "WiAahdsQAdT7"
      },
      "outputs": [],
      "source": [
        "train_data = object_detector.DataLoader.from_pascal_voc(\n",
        "    '/content/drive/MyDrive/newdataset/train',\n",
        "    '/content/drive/MyDrive/newdataset/train',\n",
        "    ['vis','ecrou']\n",
        ")\n",
        "\n",
        "val_data = object_detector.DataLoader.from_pascal_voc(\n",
        "    '/content/drive/MyDrive/newdataset/val',\n",
        "    '/content/drive/MyDrive/newdataset/val',\n",
        "    ['vis','ecrou']\n",
        ")"
      ]
    },
    {
      "cell_type": "code",
      "source": [
        "print(train_data.size)\n",
        "print(val_data.size)"
      ],
      "metadata": {
        "id": "NZXsSQhWXNxj"
      },
      "execution_count": null,
      "outputs": []
    },
    {
      "cell_type": "markdown",
      "metadata": {
        "id": "UNRhB8N7GHXj"
      },
      "source": [
        "###some models architectures\n",
        "\n",
        "EfficientDet-Lite[0-4] are a family of mobile/IoT-friendly object detection models derived from the [EfficientDet](https://arxiv.org/abs/1911.09070) architecture.\n",
        "\n",
        "Here is the performance of each EfficientDet-Lite models compared to each others.\n",
        "\n",
        "| Model architecture | Size(MB)* | Latency(ms)** | Average Precision*** |\n",
        "|--------------------|-----------|---------------|----------------------|\n",
        "| EfficientDet-Lite0 | 4.4       | 146           | 25.69%               |\n",
        "| EfficientDet-Lite1 | 5.8       | 259           | 30.55%               |\n",
        "| EfficientDet-Lite2 | 7.2       | 396           | 33.97%               |\n",
        "| EfficientDet-Lite3 | 11.4      | 716           | 37.70%               |\n",
        "| EfficientDet-Lite4 | 19.9      | 1886          | 41.96%               |\n",
        "\n",
        "<i> * Size of the integer quantized models. <br/>\n",
        "** Latency measured on Raspberry Pi 4 using 4 threads on CPU. <br/>\n",
        "*** Average Precision is the mAP (mean Average Precision) on the COCO 2017 validation dataset.\n",
        "</i>\n",
        "\n",
        "In this notebook, we use EfficientDet-Lite0 to train our model. You can choose other model architectures depending on whether speed or accuracy is more important to you."
      ]
    },
    {
      "cell_type": "code",
      "execution_count": null,
      "metadata": {
        "id": "GZOojrDHAY1J"
      },
      "outputs": [],
      "source": [
        "spec = model_spec.get('efficientdet_lite0')"
      ]
    },
    {
      "cell_type": "markdown",
      "metadata": {
        "id": "5aeDU4mIM4ft"
      },
      "source": [
        "###Train the TensorFlow model with the training data.\n",
        "\n",
        "* Set `epochs = 20`, which means it will go through the training dataset 20 times. You can look at the validation accuracy during training and stop when you see validation loss (`val_loss`) stop decreasing to avoid overfitting.\n",
        "* Set `batch_size = 4` here so you will see that it takes 15 steps to go through the 62 images in the training dataset.\n",
        "* Set `train_whole_model=True` to fine-tune the whole model instead of just training the head layer to improve accuracy. The trade-off is that it may take longer to train the model."
      ]
    },
    {
      "cell_type": "code",
      "execution_count": null,
      "metadata": {
        "colab": {
          "base_uri": "https://localhost:8080/"
        },
        "id": "_MClfpsJAfda",
        "outputId": "43f0e3d9-c9c9-47f4-b5e9-9fc95d55ded7"
      },
      "outputs": [
        {
          "output_type": "stream",
          "name": "stdout",
          "text": [
            "Epoch 1/150\n",
            "7/7 [==============================] - 48s 997ms/step - det_loss: 1.9894 - cls_loss: 1.1361 - box_loss: 0.0171 - reg_l2_loss: 0.0630 - loss: 2.0524 - learning_rate: 0.0102 - gradient_norm: 1.5088 - val_det_loss: 1.7085 - val_cls_loss: 1.1269 - val_box_loss: 0.0116 - val_reg_l2_loss: 0.0630 - val_loss: 1.7715\n",
            "Epoch 2/150\n",
            "7/7 [==============================] - 6s 1s/step - det_loss: 1.7228 - cls_loss: 1.0945 - box_loss: 0.0126 - reg_l2_loss: 0.0630 - loss: 1.7858 - learning_rate: 0.0125 - gradient_norm: 1.0145 - val_det_loss: 1.5865 - val_cls_loss: 1.0687 - val_box_loss: 0.0104 - val_reg_l2_loss: 0.0630 - val_loss: 1.6495\n",
            "Epoch 3/150\n",
            "7/7 [==============================] - 4s 616ms/step - det_loss: 1.6573 - cls_loss: 1.0056 - box_loss: 0.0130 - reg_l2_loss: 0.0630 - loss: 1.7203 - learning_rate: 0.0125 - gradient_norm: 1.4918 - val_det_loss: 1.3943 - val_cls_loss: 0.9200 - val_box_loss: 0.0095 - val_reg_l2_loss: 0.0630 - val_loss: 1.4573\n",
            "Epoch 4/150\n",
            "7/7 [==============================] - 4s 574ms/step - det_loss: 1.2830 - cls_loss: 0.7732 - box_loss: 0.0102 - reg_l2_loss: 0.0630 - loss: 1.3460 - learning_rate: 0.0125 - gradient_norm: 1.9544 - val_det_loss: 1.7055 - val_cls_loss: 1.2551 - val_box_loss: 0.0090 - val_reg_l2_loss: 0.0630 - val_loss: 1.7685\n",
            "Epoch 5/150\n",
            "7/7 [==============================] - 12s 2s/step - det_loss: 1.1920 - cls_loss: 0.6191 - box_loss: 0.0115 - reg_l2_loss: 0.0630 - loss: 1.2550 - learning_rate: 0.0125 - gradient_norm: 1.8843 - val_det_loss: 0.9947 - val_cls_loss: 0.5843 - val_box_loss: 0.0082 - val_reg_l2_loss: 0.0630 - val_loss: 1.0577\n",
            "Epoch 6/150\n",
            "7/7 [==============================] - 4s 672ms/step - det_loss: 1.0819 - cls_loss: 0.5354 - box_loss: 0.0109 - reg_l2_loss: 0.0630 - loss: 1.1449 - learning_rate: 0.0125 - gradient_norm: 2.1342 - val_det_loss: 0.9146 - val_cls_loss: 0.4967 - val_box_loss: 0.0084 - val_reg_l2_loss: 0.0630 - val_loss: 0.9776\n",
            "Epoch 7/150\n",
            "7/7 [==============================] - 4s 596ms/step - det_loss: 0.9245 - cls_loss: 0.4521 - box_loss: 0.0094 - reg_l2_loss: 0.0630 - loss: 0.9875 - learning_rate: 0.0124 - gradient_norm: 1.9552 - val_det_loss: 0.9553 - val_cls_loss: 0.5590 - val_box_loss: 0.0079 - val_reg_l2_loss: 0.0630 - val_loss: 1.0184\n",
            "Epoch 8/150\n",
            "7/7 [==============================] - 6s 882ms/step - det_loss: 0.8753 - cls_loss: 0.4112 - box_loss: 0.0093 - reg_l2_loss: 0.0630 - loss: 0.9384 - learning_rate: 0.0124 - gradient_norm: 1.8207 - val_det_loss: 0.7971 - val_cls_loss: 0.4425 - val_box_loss: 0.0071 - val_reg_l2_loss: 0.0630 - val_loss: 0.8602\n",
            "Epoch 9/150\n",
            "7/7 [==============================] - 5s 779ms/step - det_loss: 0.7466 - cls_loss: 0.3595 - box_loss: 0.0077 - reg_l2_loss: 0.0630 - loss: 0.8096 - learning_rate: 0.0124 - gradient_norm: 1.8153 - val_det_loss: 0.7508 - val_cls_loss: 0.3900 - val_box_loss: 0.0072 - val_reg_l2_loss: 0.0631 - val_loss: 0.8138\n",
            "Epoch 10/150\n",
            "7/7 [==============================] - 5s 818ms/step - det_loss: 0.6489 - cls_loss: 0.3250 - box_loss: 0.0065 - reg_l2_loss: 0.0631 - loss: 0.7120 - learning_rate: 0.0124 - gradient_norm: 2.0775 - val_det_loss: 0.9063 - val_cls_loss: 0.4436 - val_box_loss: 0.0093 - val_reg_l2_loss: 0.0631 - val_loss: 0.9694\n",
            "Epoch 11/150\n",
            "7/7 [==============================] - 4s 592ms/step - det_loss: 0.6652 - cls_loss: 0.3528 - box_loss: 0.0062 - reg_l2_loss: 0.0631 - loss: 0.7283 - learning_rate: 0.0123 - gradient_norm: 2.1628 - val_det_loss: 0.9949 - val_cls_loss: 0.5086 - val_box_loss: 0.0097 - val_reg_l2_loss: 0.0631 - val_loss: 1.0580\n",
            "Epoch 12/150\n",
            "7/7 [==============================] - 6s 914ms/step - det_loss: 0.6910 - cls_loss: 0.3411 - box_loss: 0.0070 - reg_l2_loss: 0.0631 - loss: 0.7540 - learning_rate: 0.0123 - gradient_norm: 2.4408 - val_det_loss: 0.9216 - val_cls_loss: 0.4911 - val_box_loss: 0.0086 - val_reg_l2_loss: 0.0631 - val_loss: 0.9846\n",
            "Epoch 13/150\n",
            "7/7 [==============================] - 4s 659ms/step - det_loss: 0.6032 - cls_loss: 0.3090 - box_loss: 0.0059 - reg_l2_loss: 0.0631 - loss: 0.6663 - learning_rate: 0.0123 - gradient_norm: 2.1927 - val_det_loss: 0.9151 - val_cls_loss: 0.4577 - val_box_loss: 0.0091 - val_reg_l2_loss: 0.0631 - val_loss: 0.9782\n",
            "Epoch 14/150\n",
            "7/7 [==============================] - 4s 656ms/step - det_loss: 0.6274 - cls_loss: 0.3338 - box_loss: 0.0059 - reg_l2_loss: 0.0631 - loss: 0.6905 - learning_rate: 0.0122 - gradient_norm: 2.6071 - val_det_loss: 0.9275 - val_cls_loss: 0.5162 - val_box_loss: 0.0082 - val_reg_l2_loss: 0.0631 - val_loss: 0.9906\n",
            "Epoch 15/150\n",
            "7/7 [==============================] - 5s 840ms/step - det_loss: 0.5497 - cls_loss: 0.2960 - box_loss: 0.0051 - reg_l2_loss: 0.0631 - loss: 0.6128 - learning_rate: 0.0122 - gradient_norm: 2.1833 - val_det_loss: 1.0254 - val_cls_loss: 0.4922 - val_box_loss: 0.0107 - val_reg_l2_loss: 0.0631 - val_loss: 1.0885\n",
            "Epoch 16/150\n",
            "7/7 [==============================] - 6s 871ms/step - det_loss: 0.5321 - cls_loss: 0.2746 - box_loss: 0.0051 - reg_l2_loss: 0.0631 - loss: 0.5952 - learning_rate: 0.0122 - gradient_norm: 1.8702 - val_det_loss: 0.6973 - val_cls_loss: 0.3944 - val_box_loss: 0.0061 - val_reg_l2_loss: 0.0631 - val_loss: 0.7604\n",
            "Epoch 17/150\n",
            "7/7 [==============================] - 4s 598ms/step - det_loss: 0.5380 - cls_loss: 0.2765 - box_loss: 0.0052 - reg_l2_loss: 0.0631 - loss: 0.6012 - learning_rate: 0.0121 - gradient_norm: 1.9906 - val_det_loss: 0.7056 - val_cls_loss: 0.3668 - val_box_loss: 0.0068 - val_reg_l2_loss: 0.0631 - val_loss: 0.7687\n",
            "Epoch 18/150\n",
            "7/7 [==============================] - 4s 582ms/step - det_loss: 0.4932 - cls_loss: 0.2771 - box_loss: 0.0043 - reg_l2_loss: 0.0631 - loss: 0.5563 - learning_rate: 0.0121 - gradient_norm: 1.7356 - val_det_loss: 0.8237 - val_cls_loss: 0.4067 - val_box_loss: 0.0083 - val_reg_l2_loss: 0.0631 - val_loss: 0.8868\n",
            "Epoch 19/150\n",
            "7/7 [==============================] - 5s 815ms/step - det_loss: 0.4563 - cls_loss: 0.2588 - box_loss: 0.0039 - reg_l2_loss: 0.0631 - loss: 0.5194 - learning_rate: 0.0120 - gradient_norm: 1.8787 - val_det_loss: 0.7409 - val_cls_loss: 0.3379 - val_box_loss: 0.0081 - val_reg_l2_loss: 0.0631 - val_loss: 0.8041\n",
            "Epoch 20/150\n",
            "7/7 [==============================] - 6s 1s/step - det_loss: 0.4887 - cls_loss: 0.2804 - box_loss: 0.0042 - reg_l2_loss: 0.0631 - loss: 0.5518 - learning_rate: 0.0120 - gradient_norm: 1.9094 - val_det_loss: 0.5542 - val_cls_loss: 0.2917 - val_box_loss: 0.0052 - val_reg_l2_loss: 0.0631 - val_loss: 0.6173\n",
            "Epoch 21/150\n",
            "7/7 [==============================] - 4s 588ms/step - det_loss: 0.4268 - cls_loss: 0.2413 - box_loss: 0.0037 - reg_l2_loss: 0.0631 - loss: 0.4900 - learning_rate: 0.0119 - gradient_norm: 1.6718 - val_det_loss: 0.5805 - val_cls_loss: 0.2636 - val_box_loss: 0.0063 - val_reg_l2_loss: 0.0631 - val_loss: 0.6436\n",
            "Epoch 22/150\n",
            "7/7 [==============================] - 4s 588ms/step - det_loss: 0.4713 - cls_loss: 0.2660 - box_loss: 0.0041 - reg_l2_loss: 0.0631 - loss: 0.5344 - learning_rate: 0.0119 - gradient_norm: 2.0609 - val_det_loss: 0.5353 - val_cls_loss: 0.2760 - val_box_loss: 0.0052 - val_reg_l2_loss: 0.0631 - val_loss: 0.5984\n",
            "Epoch 23/150\n",
            "7/7 [==============================] - 6s 1s/step - det_loss: 0.4990 - cls_loss: 0.2671 - box_loss: 0.0046 - reg_l2_loss: 0.0631 - loss: 0.5621 - learning_rate: 0.0118 - gradient_norm: 2.3451 - val_det_loss: 0.4716 - val_cls_loss: 0.2505 - val_box_loss: 0.0044 - val_reg_l2_loss: 0.0631 - val_loss: 0.5348\n",
            "Epoch 24/150\n",
            "7/7 [==============================] - 5s 697ms/step - det_loss: 0.4497 - cls_loss: 0.2574 - box_loss: 0.0038 - reg_l2_loss: 0.0631 - loss: 0.5128 - learning_rate: 0.0117 - gradient_norm: 2.0925 - val_det_loss: 0.5134 - val_cls_loss: 0.2962 - val_box_loss: 0.0043 - val_reg_l2_loss: 0.0631 - val_loss: 0.5765\n",
            "Epoch 25/150\n",
            "7/7 [==============================] - 5s 735ms/step - det_loss: 0.4860 - cls_loss: 0.2701 - box_loss: 0.0043 - reg_l2_loss: 0.0631 - loss: 0.5492 - learning_rate: 0.0117 - gradient_norm: 2.1691 - val_det_loss: 0.6798 - val_cls_loss: 0.3000 - val_box_loss: 0.0076 - val_reg_l2_loss: 0.0631 - val_loss: 0.7429\n",
            "Epoch 26/150\n",
            "7/7 [==============================] - 4s 615ms/step - det_loss: 0.4294 - cls_loss: 0.2369 - box_loss: 0.0039 - reg_l2_loss: 0.0631 - loss: 0.4925 - learning_rate: 0.0116 - gradient_norm: 1.8671 - val_det_loss: 0.4991 - val_cls_loss: 0.2963 - val_box_loss: 0.0041 - val_reg_l2_loss: 0.0631 - val_loss: 0.5623\n",
            "Epoch 27/150\n",
            "7/7 [==============================] - 6s 902ms/step - det_loss: 0.4411 - cls_loss: 0.2474 - box_loss: 0.0039 - reg_l2_loss: 0.0631 - loss: 0.5042 - learning_rate: 0.0116 - gradient_norm: 2.0284 - val_det_loss: 0.5075 - val_cls_loss: 0.2959 - val_box_loss: 0.0042 - val_reg_l2_loss: 0.0631 - val_loss: 0.5706\n",
            "Epoch 28/150\n",
            "7/7 [==============================] - 5s 693ms/step - det_loss: 0.4588 - cls_loss: 0.2494 - box_loss: 0.0042 - reg_l2_loss: 0.0631 - loss: 0.5219 - learning_rate: 0.0115 - gradient_norm: 1.9491 - val_det_loss: 0.5689 - val_cls_loss: 0.2895 - val_box_loss: 0.0056 - val_reg_l2_loss: 0.0631 - val_loss: 0.6320\n",
            "Epoch 29/150\n",
            "7/7 [==============================] - 4s 597ms/step - det_loss: 0.4301 - cls_loss: 0.2368 - box_loss: 0.0039 - reg_l2_loss: 0.0631 - loss: 0.4933 - learning_rate: 0.0114 - gradient_norm: 1.9175 - val_det_loss: 0.4576 - val_cls_loss: 0.2592 - val_box_loss: 0.0040 - val_reg_l2_loss: 0.0631 - val_loss: 0.5207\n",
            "Epoch 30/150\n",
            "7/7 [==============================] - 6s 927ms/step - det_loss: 0.4376 - cls_loss: 0.2400 - box_loss: 0.0040 - reg_l2_loss: 0.0631 - loss: 0.5008 - learning_rate: 0.0113 - gradient_norm: 2.0659 - val_det_loss: 0.4732 - val_cls_loss: 0.2367 - val_box_loss: 0.0047 - val_reg_l2_loss: 0.0631 - val_loss: 0.5364\n",
            "Epoch 31/150\n",
            "7/7 [==============================] - 5s 841ms/step - det_loss: 0.4331 - cls_loss: 0.2364 - box_loss: 0.0039 - reg_l2_loss: 0.0631 - loss: 0.4962 - learning_rate: 0.0113 - gradient_norm: 2.0509 - val_det_loss: 0.4900 - val_cls_loss: 0.2439 - val_box_loss: 0.0049 - val_reg_l2_loss: 0.0631 - val_loss: 0.5532\n",
            "Epoch 32/150\n",
            "7/7 [==============================] - 4s 684ms/step - det_loss: 0.4054 - cls_loss: 0.2279 - box_loss: 0.0035 - reg_l2_loss: 0.0631 - loss: 0.4685 - learning_rate: 0.0112 - gradient_norm: 1.6513 - val_det_loss: 0.4658 - val_cls_loss: 0.2642 - val_box_loss: 0.0040 - val_reg_l2_loss: 0.0632 - val_loss: 0.5290\n",
            "Epoch 33/150\n",
            "7/7 [==============================] - 4s 594ms/step - det_loss: 0.4373 - cls_loss: 0.2448 - box_loss: 0.0039 - reg_l2_loss: 0.0632 - loss: 0.5004 - learning_rate: 0.0111 - gradient_norm: 2.0777 - val_det_loss: 0.4692 - val_cls_loss: 0.2522 - val_box_loss: 0.0043 - val_reg_l2_loss: 0.0632 - val_loss: 0.5324\n",
            "Epoch 34/150\n",
            "7/7 [==============================] - 5s 857ms/step - det_loss: 0.4685 - cls_loss: 0.2528 - box_loss: 0.0043 - reg_l2_loss: 0.0632 - loss: 0.5316 - learning_rate: 0.0110 - gradient_norm: 2.4343 - val_det_loss: 0.5215 - val_cls_loss: 0.2730 - val_box_loss: 0.0050 - val_reg_l2_loss: 0.0632 - val_loss: 0.5847\n",
            "Epoch 35/150\n",
            "7/7 [==============================] - 6s 927ms/step - det_loss: 0.4211 - cls_loss: 0.2429 - box_loss: 0.0036 - reg_l2_loss: 0.0632 - loss: 0.4842 - learning_rate: 0.0109 - gradient_norm: 1.9329 - val_det_loss: 0.4636 - val_cls_loss: 0.2455 - val_box_loss: 0.0044 - val_reg_l2_loss: 0.0632 - val_loss: 0.5267\n",
            "Epoch 36/150\n",
            "7/7 [==============================] - 4s 662ms/step - det_loss: 0.4223 - cls_loss: 0.2391 - box_loss: 0.0037 - reg_l2_loss: 0.0632 - loss: 0.4855 - learning_rate: 0.0108 - gradient_norm: 2.0418 - val_det_loss: 0.3950 - val_cls_loss: 0.2176 - val_box_loss: 0.0035 - val_reg_l2_loss: 0.0632 - val_loss: 0.4582\n",
            "Epoch 37/150\n",
            "7/7 [==============================] - 4s 586ms/step - det_loss: 0.4715 - cls_loss: 0.2528 - box_loss: 0.0044 - reg_l2_loss: 0.0632 - loss: 0.5346 - learning_rate: 0.0107 - gradient_norm: 2.5094 - val_det_loss: 0.4449 - val_cls_loss: 0.2330 - val_box_loss: 0.0042 - val_reg_l2_loss: 0.0632 - val_loss: 0.5080\n",
            "Epoch 38/150\n",
            "7/7 [==============================] - 6s 914ms/step - det_loss: 0.4478 - cls_loss: 0.2473 - box_loss: 0.0040 - reg_l2_loss: 0.0632 - loss: 0.5109 - learning_rate: 0.0106 - gradient_norm: 2.2078 - val_det_loss: 0.4709 - val_cls_loss: 0.2259 - val_box_loss: 0.0049 - val_reg_l2_loss: 0.0632 - val_loss: 0.5341\n",
            "Epoch 39/150\n",
            "7/7 [==============================] - 4s 658ms/step - det_loss: 0.4356 - cls_loss: 0.2343 - box_loss: 0.0040 - reg_l2_loss: 0.0632 - loss: 0.4987 - learning_rate: 0.0106 - gradient_norm: 2.0527 - val_det_loss: 0.3836 - val_cls_loss: 0.2107 - val_box_loss: 0.0035 - val_reg_l2_loss: 0.0632 - val_loss: 0.4467\n",
            "Epoch 40/150\n",
            "7/7 [==============================] - 5s 748ms/step - det_loss: 0.4028 - cls_loss: 0.2301 - box_loss: 0.0035 - reg_l2_loss: 0.0632 - loss: 0.4660 - learning_rate: 0.0105 - gradient_norm: 1.9912 - val_det_loss: 0.4742 - val_cls_loss: 0.2424 - val_box_loss: 0.0046 - val_reg_l2_loss: 0.0632 - val_loss: 0.5374\n",
            "Epoch 41/150\n",
            "7/7 [==============================] - 5s 770ms/step - det_loss: 0.4077 - cls_loss: 0.2243 - box_loss: 0.0037 - reg_l2_loss: 0.0632 - loss: 0.4709 - learning_rate: 0.0104 - gradient_norm: 1.8821 - val_det_loss: 0.4168 - val_cls_loss: 0.2268 - val_box_loss: 0.0038 - val_reg_l2_loss: 0.0632 - val_loss: 0.4800\n",
            "Epoch 42/150\n",
            "7/7 [==============================] - 6s 873ms/step - det_loss: 0.3708 - cls_loss: 0.2166 - box_loss: 0.0031 - reg_l2_loss: 0.0632 - loss: 0.4340 - learning_rate: 0.0103 - gradient_norm: 1.6381 - val_det_loss: 0.4509 - val_cls_loss: 0.2337 - val_box_loss: 0.0043 - val_reg_l2_loss: 0.0632 - val_loss: 0.5141\n",
            "Epoch 43/150\n",
            "7/7 [==============================] - 4s 593ms/step - det_loss: 0.3746 - cls_loss: 0.2180 - box_loss: 0.0031 - reg_l2_loss: 0.0632 - loss: 0.4377 - learning_rate: 0.0102 - gradient_norm: 1.7288 - val_det_loss: 0.3798 - val_cls_loss: 0.2150 - val_box_loss: 0.0033 - val_reg_l2_loss: 0.0632 - val_loss: 0.4430\n",
            "Epoch 44/150\n",
            "7/7 [==============================] - 4s 590ms/step - det_loss: 0.3982 - cls_loss: 0.2178 - box_loss: 0.0036 - reg_l2_loss: 0.0632 - loss: 0.4613 - learning_rate: 0.0101 - gradient_norm: 2.0094 - val_det_loss: 0.3751 - val_cls_loss: 0.1988 - val_box_loss: 0.0035 - val_reg_l2_loss: 0.0632 - val_loss: 0.4383\n",
            "Epoch 45/150\n",
            "7/7 [==============================] - 7s 1s/step - det_loss: 0.3772 - cls_loss: 0.2201 - box_loss: 0.0031 - reg_l2_loss: 0.0632 - loss: 0.4404 - learning_rate: 0.0099 - gradient_norm: 1.8275 - val_det_loss: 0.5187 - val_cls_loss: 0.2272 - val_box_loss: 0.0058 - val_reg_l2_loss: 0.0632 - val_loss: 0.5819\n",
            "Epoch 46/150\n",
            "7/7 [==============================] - 5s 811ms/step - det_loss: 0.4139 - cls_loss: 0.2386 - box_loss: 0.0035 - reg_l2_loss: 0.0632 - loss: 0.4770 - learning_rate: 0.0098 - gradient_norm: 2.2431 - val_det_loss: 0.4198 - val_cls_loss: 0.2376 - val_box_loss: 0.0036 - val_reg_l2_loss: 0.0632 - val_loss: 0.4829\n",
            "Epoch 47/150\n",
            "7/7 [==============================] - 4s 587ms/step - det_loss: 0.3647 - cls_loss: 0.2185 - box_loss: 0.0029 - reg_l2_loss: 0.0632 - loss: 0.4279 - learning_rate: 0.0097 - gradient_norm: 1.5405 - val_det_loss: 0.3980 - val_cls_loss: 0.2165 - val_box_loss: 0.0036 - val_reg_l2_loss: 0.0632 - val_loss: 0.4612\n",
            "Epoch 48/150\n",
            "7/7 [==============================] - 4s 582ms/step - det_loss: 0.3624 - cls_loss: 0.2147 - box_loss: 0.0030 - reg_l2_loss: 0.0632 - loss: 0.4255 - learning_rate: 0.0096 - gradient_norm: 1.6455 - val_det_loss: 0.3702 - val_cls_loss: 0.2097 - val_box_loss: 0.0032 - val_reg_l2_loss: 0.0632 - val_loss: 0.4334\n",
            "Epoch 49/150\n",
            "7/7 [==============================] - 6s 920ms/step - det_loss: 0.3758 - cls_loss: 0.2192 - box_loss: 0.0031 - reg_l2_loss: 0.0632 - loss: 0.4390 - learning_rate: 0.0095 - gradient_norm: 1.8431 - val_det_loss: 0.4209 - val_cls_loss: 0.2220 - val_box_loss: 0.0040 - val_reg_l2_loss: 0.0632 - val_loss: 0.4841\n",
            "Epoch 50/150\n",
            "7/7 [==============================] - 6s 962ms/step - det_loss: 0.3703 - cls_loss: 0.2218 - box_loss: 0.0030 - reg_l2_loss: 0.0632 - loss: 0.4335 - learning_rate: 0.0094 - gradient_norm: 1.7210 - val_det_loss: 0.3779 - val_cls_loss: 0.2151 - val_box_loss: 0.0033 - val_reg_l2_loss: 0.0632 - val_loss: 0.4410\n",
            "Epoch 51/150\n",
            "7/7 [==============================] - 4s 595ms/step - det_loss: 0.3705 - cls_loss: 0.2192 - box_loss: 0.0030 - reg_l2_loss: 0.0632 - loss: 0.4337 - learning_rate: 0.0093 - gradient_norm: 1.6527 - val_det_loss: 0.4084 - val_cls_loss: 0.2173 - val_box_loss: 0.0038 - val_reg_l2_loss: 0.0632 - val_loss: 0.4715\n",
            "Epoch 52/150\n",
            "7/7 [==============================] - 4s 595ms/step - det_loss: 0.3497 - cls_loss: 0.2060 - box_loss: 0.0029 - reg_l2_loss: 0.0632 - loss: 0.4129 - learning_rate: 0.0092 - gradient_norm: 1.5558 - val_det_loss: 0.4202 - val_cls_loss: 0.2315 - val_box_loss: 0.0038 - val_reg_l2_loss: 0.0632 - val_loss: 0.4834\n",
            "Epoch 53/150\n",
            "7/7 [==============================] - 6s 921ms/step - det_loss: 0.3627 - cls_loss: 0.2149 - box_loss: 0.0030 - reg_l2_loss: 0.0632 - loss: 0.4259 - learning_rate: 0.0090 - gradient_norm: 1.7536 - val_det_loss: 0.4201 - val_cls_loss: 0.2318 - val_box_loss: 0.0038 - val_reg_l2_loss: 0.0632 - val_loss: 0.4832\n",
            "Epoch 54/150\n",
            "7/7 [==============================] - 5s 712ms/step - det_loss: 0.3714 - cls_loss: 0.2146 - box_loss: 0.0031 - reg_l2_loss: 0.0632 - loss: 0.4345 - learning_rate: 0.0089 - gradient_norm: 1.7443 - val_det_loss: 0.4475 - val_cls_loss: 0.2251 - val_box_loss: 0.0044 - val_reg_l2_loss: 0.0632 - val_loss: 0.5107\n",
            "Epoch 55/150\n",
            "7/7 [==============================] - 5s 739ms/step - det_loss: 0.3758 - cls_loss: 0.2089 - box_loss: 0.0033 - reg_l2_loss: 0.0632 - loss: 0.4390 - learning_rate: 0.0088 - gradient_norm: 1.9284 - val_det_loss: 0.4408 - val_cls_loss: 0.2385 - val_box_loss: 0.0040 - val_reg_l2_loss: 0.0632 - val_loss: 0.5040\n",
            "Epoch 56/150\n",
            "7/7 [==============================] - 5s 740ms/step - det_loss: 0.3639 - cls_loss: 0.2040 - box_loss: 0.0032 - reg_l2_loss: 0.0632 - loss: 0.4271 - learning_rate: 0.0087 - gradient_norm: 2.0021 - val_det_loss: 0.4963 - val_cls_loss: 0.2524 - val_box_loss: 0.0049 - val_reg_l2_loss: 0.0632 - val_loss: 0.5595\n",
            "Epoch 57/150\n",
            "7/7 [==============================] - 6s 878ms/step - det_loss: 0.4108 - cls_loss: 0.2235 - box_loss: 0.0037 - reg_l2_loss: 0.0632 - loss: 0.4740 - learning_rate: 0.0086 - gradient_norm: 2.0086 - val_det_loss: 0.4571 - val_cls_loss: 0.2513 - val_box_loss: 0.0041 - val_reg_l2_loss: 0.0632 - val_loss: 0.5203\n",
            "Epoch 58/150\n",
            "7/7 [==============================] - 4s 590ms/step - det_loss: 0.3737 - cls_loss: 0.2160 - box_loss: 0.0032 - reg_l2_loss: 0.0632 - loss: 0.4369 - learning_rate: 0.0084 - gradient_norm: 1.7731 - val_det_loss: 0.4092 - val_cls_loss: 0.2214 - val_box_loss: 0.0038 - val_reg_l2_loss: 0.0632 - val_loss: 0.4724\n",
            "Epoch 59/150\n",
            "7/7 [==============================] - 4s 684ms/step - det_loss: 0.3683 - cls_loss: 0.2118 - box_loss: 0.0031 - reg_l2_loss: 0.0632 - loss: 0.4315 - learning_rate: 0.0083 - gradient_norm: 1.6491 - val_det_loss: 0.4247 - val_cls_loss: 0.2199 - val_box_loss: 0.0041 - val_reg_l2_loss: 0.0632 - val_loss: 0.4879\n",
            "Epoch 60/150\n",
            "7/7 [==============================] - 7s 1s/step - det_loss: 0.3542 - cls_loss: 0.2129 - box_loss: 0.0028 - reg_l2_loss: 0.0632 - loss: 0.4174 - learning_rate: 0.0082 - gradient_norm: 1.6965 - val_det_loss: 0.3977 - val_cls_loss: 0.2100 - val_box_loss: 0.0038 - val_reg_l2_loss: 0.0632 - val_loss: 0.4609\n",
            "Epoch 61/150\n",
            "7/7 [==============================] - 4s 689ms/step - det_loss: 0.3643 - cls_loss: 0.2155 - box_loss: 0.0030 - reg_l2_loss: 0.0632 - loss: 0.4275 - learning_rate: 0.0081 - gradient_norm: 1.6428 - val_det_loss: 0.3455 - val_cls_loss: 0.2014 - val_box_loss: 0.0029 - val_reg_l2_loss: 0.0632 - val_loss: 0.4087\n",
            "Epoch 62/150\n",
            "7/7 [==============================] - 4s 578ms/step - det_loss: 0.3398 - cls_loss: 0.2068 - box_loss: 0.0027 - reg_l2_loss: 0.0632 - loss: 0.4030 - learning_rate: 0.0079 - gradient_norm: 1.6266 - val_det_loss: 0.3449 - val_cls_loss: 0.2049 - val_box_loss: 0.0028 - val_reg_l2_loss: 0.0632 - val_loss: 0.4081\n",
            "Epoch 63/150\n",
            "7/7 [==============================] - 4s 681ms/step - det_loss: 0.3632 - cls_loss: 0.2126 - box_loss: 0.0030 - reg_l2_loss: 0.0632 - loss: 0.4264 - learning_rate: 0.0078 - gradient_norm: 1.9374 - val_det_loss: 0.3350 - val_cls_loss: 0.1950 - val_box_loss: 0.0028 - val_reg_l2_loss: 0.0632 - val_loss: 0.3982\n",
            "Epoch 64/150\n",
            "7/7 [==============================] - 6s 878ms/step - det_loss: 0.3468 - cls_loss: 0.1977 - box_loss: 0.0030 - reg_l2_loss: 0.0632 - loss: 0.4100 - learning_rate: 0.0077 - gradient_norm: 1.7614 - val_det_loss: 0.3315 - val_cls_loss: 0.1900 - val_box_loss: 0.0028 - val_reg_l2_loss: 0.0632 - val_loss: 0.3947\n",
            "Epoch 65/150\n",
            "7/7 [==============================] - 5s 831ms/step - det_loss: 0.3779 - cls_loss: 0.2138 - box_loss: 0.0033 - reg_l2_loss: 0.0632 - loss: 0.4411 - learning_rate: 0.0076 - gradient_norm: 2.0233 - val_det_loss: 0.3378 - val_cls_loss: 0.1915 - val_box_loss: 0.0029 - val_reg_l2_loss: 0.0632 - val_loss: 0.4010\n",
            "Epoch 66/150\n",
            "7/7 [==============================] - 4s 583ms/step - det_loss: 0.3737 - cls_loss: 0.2201 - box_loss: 0.0031 - reg_l2_loss: 0.0632 - loss: 0.4369 - learning_rate: 0.0074 - gradient_norm: 2.0228 - val_det_loss: 0.3538 - val_cls_loss: 0.2033 - val_box_loss: 0.0030 - val_reg_l2_loss: 0.0632 - val_loss: 0.4170\n",
            "Epoch 67/150\n",
            "7/7 [==============================] - 4s 615ms/step - det_loss: 0.3412 - cls_loss: 0.2066 - box_loss: 0.0027 - reg_l2_loss: 0.0632 - loss: 0.4043 - learning_rate: 0.0073 - gradient_norm: 1.7970 - val_det_loss: 0.3545 - val_cls_loss: 0.2110 - val_box_loss: 0.0029 - val_reg_l2_loss: 0.0632 - val_loss: 0.4177\n",
            "Epoch 68/150\n",
            "7/7 [==============================] - 6s 1s/step - det_loss: 0.3919 - cls_loss: 0.2243 - box_loss: 0.0034 - reg_l2_loss: 0.0632 - loss: 0.4551 - learning_rate: 0.0072 - gradient_norm: 1.8200 - val_det_loss: 0.3612 - val_cls_loss: 0.2030 - val_box_loss: 0.0032 - val_reg_l2_loss: 0.0632 - val_loss: 0.4244\n",
            "Epoch 69/150\n",
            "7/7 [==============================] - 4s 607ms/step - det_loss: 0.3813 - cls_loss: 0.2285 - box_loss: 0.0031 - reg_l2_loss: 0.0632 - loss: 0.4445 - learning_rate: 0.0070 - gradient_norm: 2.0263 - val_det_loss: 0.3539 - val_cls_loss: 0.2187 - val_box_loss: 0.0027 - val_reg_l2_loss: 0.0632 - val_loss: 0.4171\n",
            "Epoch 70/150\n",
            "7/7 [==============================] - 5s 751ms/step - det_loss: 0.3466 - cls_loss: 0.2023 - box_loss: 0.0029 - reg_l2_loss: 0.0632 - loss: 0.4098 - learning_rate: 0.0069 - gradient_norm: 1.7169 - val_det_loss: 0.3625 - val_cls_loss: 0.2127 - val_box_loss: 0.0030 - val_reg_l2_loss: 0.0632 - val_loss: 0.4257\n",
            "Epoch 71/150\n",
            "7/7 [==============================] - 5s 821ms/step - det_loss: 0.3481 - cls_loss: 0.2002 - box_loss: 0.0030 - reg_l2_loss: 0.0632 - loss: 0.4112 - learning_rate: 0.0068 - gradient_norm: 1.9838 - val_det_loss: 0.4236 - val_cls_loss: 0.2351 - val_box_loss: 0.0038 - val_reg_l2_loss: 0.0632 - val_loss: 0.4868\n",
            "Epoch 72/150\n",
            "7/7 [==============================] - 6s 895ms/step - det_loss: 0.3527 - cls_loss: 0.2063 - box_loss: 0.0029 - reg_l2_loss: 0.0632 - loss: 0.4159 - learning_rate: 0.0066 - gradient_norm: 1.9276 - val_det_loss: 0.4320 - val_cls_loss: 0.2689 - val_box_loss: 0.0033 - val_reg_l2_loss: 0.0632 - val_loss: 0.4951\n",
            "Epoch 73/150\n",
            "7/7 [==============================] - 4s 599ms/step - det_loss: 0.3375 - cls_loss: 0.2055 - box_loss: 0.0026 - reg_l2_loss: 0.0632 - loss: 0.4007 - learning_rate: 0.0065 - gradient_norm: 1.7495 - val_det_loss: 0.3721 - val_cls_loss: 0.2186 - val_box_loss: 0.0031 - val_reg_l2_loss: 0.0632 - val_loss: 0.4353\n",
            "Epoch 74/150\n",
            "7/7 [==============================] - 4s 587ms/step - det_loss: 0.3578 - cls_loss: 0.2222 - box_loss: 0.0027 - reg_l2_loss: 0.0632 - loss: 0.4209 - learning_rate: 0.0064 - gradient_norm: 1.7685 - val_det_loss: 0.3711 - val_cls_loss: 0.2194 - val_box_loss: 0.0030 - val_reg_l2_loss: 0.0632 - val_loss: 0.4343\n",
            "Epoch 75/150\n",
            "7/7 [==============================] - 7s 1s/step - det_loss: 0.3417 - cls_loss: 0.2003 - box_loss: 0.0028 - reg_l2_loss: 0.0632 - loss: 0.4048 - learning_rate: 0.0063 - gradient_norm: 1.7259 - val_det_loss: 0.3989 - val_cls_loss: 0.2228 - val_box_loss: 0.0035 - val_reg_l2_loss: 0.0632 - val_loss: 0.4621\n",
            "Epoch 76/150\n",
            "7/7 [==============================] - 4s 604ms/step - det_loss: 0.3322 - cls_loss: 0.2009 - box_loss: 0.0026 - reg_l2_loss: 0.0632 - loss: 0.3954 - learning_rate: 0.0061 - gradient_norm: 1.7704 - val_det_loss: 0.3868 - val_cls_loss: 0.2353 - val_box_loss: 0.0030 - val_reg_l2_loss: 0.0632 - val_loss: 0.4500\n",
            "Epoch 77/150\n",
            "7/7 [==============================] - 4s 683ms/step - det_loss: 0.3559 - cls_loss: 0.2121 - box_loss: 0.0029 - reg_l2_loss: 0.0632 - loss: 0.4190 - learning_rate: 0.0060 - gradient_norm: 1.9562 - val_det_loss: 0.3615 - val_cls_loss: 0.2073 - val_box_loss: 0.0031 - val_reg_l2_loss: 0.0632 - val_loss: 0.4247\n",
            "Epoch 78/150\n",
            "7/7 [==============================] - 4s 688ms/step - det_loss: 0.3564 - cls_loss: 0.2015 - box_loss: 0.0031 - reg_l2_loss: 0.0632 - loss: 0.4196 - learning_rate: 0.0059 - gradient_norm: 1.9485 - val_det_loss: 0.3415 - val_cls_loss: 0.1955 - val_box_loss: 0.0029 - val_reg_l2_loss: 0.0632 - val_loss: 0.4047\n",
            "Epoch 79/150\n",
            "7/7 [==============================] - 6s 901ms/step - det_loss: 0.3522 - cls_loss: 0.2079 - box_loss: 0.0029 - reg_l2_loss: 0.0632 - loss: 0.4154 - learning_rate: 0.0057 - gradient_norm: 1.7290 - val_det_loss: 0.3244 - val_cls_loss: 0.1938 - val_box_loss: 0.0026 - val_reg_l2_loss: 0.0632 - val_loss: 0.3876\n",
            "Epoch 80/150\n",
            "7/7 [==============================] - 5s 749ms/step - det_loss: 0.3415 - cls_loss: 0.1998 - box_loss: 0.0028 - reg_l2_loss: 0.0632 - loss: 0.4046 - learning_rate: 0.0056 - gradient_norm: 1.6038 - val_det_loss: 0.3182 - val_cls_loss: 0.1915 - val_box_loss: 0.0025 - val_reg_l2_loss: 0.0632 - val_loss: 0.3813\n",
            "Epoch 81/150\n",
            "7/7 [==============================] - 4s 684ms/step - det_loss: 0.3210 - cls_loss: 0.1946 - box_loss: 0.0025 - reg_l2_loss: 0.0632 - loss: 0.3842 - learning_rate: 0.0055 - gradient_norm: 1.6612 - val_det_loss: 0.3055 - val_cls_loss: 0.1800 - val_box_loss: 0.0025 - val_reg_l2_loss: 0.0632 - val_loss: 0.3687\n",
            "Epoch 82/150\n",
            "7/7 [==============================] - 6s 890ms/step - det_loss: 0.3322 - cls_loss: 0.1969 - box_loss: 0.0027 - reg_l2_loss: 0.0632 - loss: 0.3954 - learning_rate: 0.0053 - gradient_norm: 1.6321 - val_det_loss: 0.3010 - val_cls_loss: 0.1859 - val_box_loss: 0.0023 - val_reg_l2_loss: 0.0632 - val_loss: 0.3642\n",
            "Epoch 83/150\n",
            "7/7 [==============================] - 5s 772ms/step - det_loss: 0.3053 - cls_loss: 0.1909 - box_loss: 0.0023 - reg_l2_loss: 0.0632 - loss: 0.3685 - learning_rate: 0.0052 - gradient_norm: 1.4723 - val_det_loss: 0.3001 - val_cls_loss: 0.1872 - val_box_loss: 0.0023 - val_reg_l2_loss: 0.0632 - val_loss: 0.3633\n",
            "Epoch 84/150\n",
            "7/7 [==============================] - 4s 575ms/step - det_loss: 0.3239 - cls_loss: 0.1915 - box_loss: 0.0026 - reg_l2_loss: 0.0632 - loss: 0.3870 - learning_rate: 0.0051 - gradient_norm: 1.6806 - val_det_loss: 0.3141 - val_cls_loss: 0.1903 - val_box_loss: 0.0025 - val_reg_l2_loss: 0.0632 - val_loss: 0.3773\n",
            "Epoch 85/150\n",
            "7/7 [==============================] - 5s 741ms/step - det_loss: 0.3501 - cls_loss: 0.2160 - box_loss: 0.0027 - reg_l2_loss: 0.0632 - loss: 0.4133 - learning_rate: 0.0049 - gradient_norm: 1.6909 - val_det_loss: 0.3210 - val_cls_loss: 0.1952 - val_box_loss: 0.0025 - val_reg_l2_loss: 0.0632 - val_loss: 0.3842\n",
            "Epoch 86/150\n",
            "7/7 [==============================] - 6s 1s/step - det_loss: 0.3240 - cls_loss: 0.1944 - box_loss: 0.0026 - reg_l2_loss: 0.0632 - loss: 0.3872 - learning_rate: 0.0048 - gradient_norm: 1.6134 - val_det_loss: 0.3205 - val_cls_loss: 0.1855 - val_box_loss: 0.0027 - val_reg_l2_loss: 0.0632 - val_loss: 0.3837\n",
            "Epoch 87/150\n",
            "7/7 [==============================] - 4s 623ms/step - det_loss: 0.3142 - cls_loss: 0.1849 - box_loss: 0.0026 - reg_l2_loss: 0.0632 - loss: 0.3774 - learning_rate: 0.0047 - gradient_norm: 1.6770 - val_det_loss: 0.3294 - val_cls_loss: 0.1973 - val_box_loss: 0.0026 - val_reg_l2_loss: 0.0632 - val_loss: 0.3926\n",
            "Epoch 88/150\n",
            "7/7 [==============================] - 4s 586ms/step - det_loss: 0.3265 - cls_loss: 0.1973 - box_loss: 0.0026 - reg_l2_loss: 0.0632 - loss: 0.3897 - learning_rate: 0.0046 - gradient_norm: 1.6344 - val_det_loss: 0.3023 - val_cls_loss: 0.1810 - val_box_loss: 0.0024 - val_reg_l2_loss: 0.0632 - val_loss: 0.3654\n",
            "Epoch 89/150\n",
            "7/7 [==============================] - 4s 618ms/step - det_loss: 0.3487 - cls_loss: 0.2116 - box_loss: 0.0027 - reg_l2_loss: 0.0632 - loss: 0.4118 - learning_rate: 0.0044 - gradient_norm: 1.8638 - val_det_loss: 0.3220 - val_cls_loss: 0.1881 - val_box_loss: 0.0027 - val_reg_l2_loss: 0.0632 - val_loss: 0.3852\n",
            "Epoch 90/150\n",
            "7/7 [==============================] - 8s 1s/step - det_loss: 0.3390 - cls_loss: 0.2008 - box_loss: 0.0028 - reg_l2_loss: 0.0632 - loss: 0.4021 - learning_rate: 0.0043 - gradient_norm: 1.7153 - val_det_loss: 0.3254 - val_cls_loss: 0.1896 - val_box_loss: 0.0027 - val_reg_l2_loss: 0.0632 - val_loss: 0.3886\n",
            "Epoch 91/150\n",
            "7/7 [==============================] - 4s 583ms/step - det_loss: 0.3260 - cls_loss: 0.1984 - box_loss: 0.0026 - reg_l2_loss: 0.0632 - loss: 0.3891 - learning_rate: 0.0042 - gradient_norm: 1.6309 - val_det_loss: 0.3098 - val_cls_loss: 0.1893 - val_box_loss: 0.0024 - val_reg_l2_loss: 0.0632 - val_loss: 0.3729\n",
            "Epoch 92/150\n",
            "7/7 [==============================] - 4s 583ms/step - det_loss: 0.3566 - cls_loss: 0.2070 - box_loss: 0.0030 - reg_l2_loss: 0.0632 - loss: 0.4197 - learning_rate: 0.0041 - gradient_norm: 2.2085 - val_det_loss: 0.3172 - val_cls_loss: 0.1895 - val_box_loss: 0.0026 - val_reg_l2_loss: 0.0632 - val_loss: 0.3804\n",
            "Epoch 93/150\n",
            "7/7 [==============================] - 5s 801ms/step - det_loss: 0.3235 - cls_loss: 0.1941 - box_loss: 0.0026 - reg_l2_loss: 0.0632 - loss: 0.3867 - learning_rate: 0.0039 - gradient_norm: 1.7022 - val_det_loss: 0.3256 - val_cls_loss: 0.1914 - val_box_loss: 0.0027 - val_reg_l2_loss: 0.0632 - val_loss: 0.3888\n",
            "Epoch 94/150\n",
            "7/7 [==============================] - 5s 825ms/step - det_loss: 0.3238 - cls_loss: 0.1923 - box_loss: 0.0026 - reg_l2_loss: 0.0632 - loss: 0.3869 - learning_rate: 0.0038 - gradient_norm: 1.7445 - val_det_loss: 0.3303 - val_cls_loss: 0.1898 - val_box_loss: 0.0028 - val_reg_l2_loss: 0.0632 - val_loss: 0.3934\n",
            "Epoch 95/150\n",
            "7/7 [==============================] - 5s 833ms/step - det_loss: 0.3124 - cls_loss: 0.1963 - box_loss: 0.0023 - reg_l2_loss: 0.0632 - loss: 0.3756 - learning_rate: 0.0037 - gradient_norm: 1.6418 - val_det_loss: 0.2989 - val_cls_loss: 0.1818 - val_box_loss: 0.0023 - val_reg_l2_loss: 0.0632 - val_loss: 0.3621\n",
            "Epoch 96/150\n",
            "7/7 [==============================] - 4s 586ms/step - det_loss: 0.3058 - cls_loss: 0.1845 - box_loss: 0.0024 - reg_l2_loss: 0.0632 - loss: 0.3690 - learning_rate: 0.0036 - gradient_norm: 1.5806 - val_det_loss: 0.2956 - val_cls_loss: 0.1780 - val_box_loss: 0.0024 - val_reg_l2_loss: 0.0632 - val_loss: 0.3588\n",
            "Epoch 97/150\n",
            "7/7 [==============================] - 6s 932ms/step - det_loss: 0.3288 - cls_loss: 0.2014 - box_loss: 0.0025 - reg_l2_loss: 0.0632 - loss: 0.3920 - learning_rate: 0.0035 - gradient_norm: 1.7135 - val_det_loss: 0.2818 - val_cls_loss: 0.1756 - val_box_loss: 0.0021 - val_reg_l2_loss: 0.0632 - val_loss: 0.3450\n",
            "Epoch 98/150\n",
            "7/7 [==============================] - 4s 676ms/step - det_loss: 0.3146 - cls_loss: 0.1884 - box_loss: 0.0025 - reg_l2_loss: 0.0632 - loss: 0.3778 - learning_rate: 0.0033 - gradient_norm: 1.5969 - val_det_loss: 0.2913 - val_cls_loss: 0.1772 - val_box_loss: 0.0023 - val_reg_l2_loss: 0.0632 - val_loss: 0.3544\n",
            "Epoch 99/150\n",
            "7/7 [==============================] - 4s 664ms/step - det_loss: 0.3015 - cls_loss: 0.1861 - box_loss: 0.0023 - reg_l2_loss: 0.0632 - loss: 0.3647 - learning_rate: 0.0032 - gradient_norm: 1.6299 - val_det_loss: 0.2857 - val_cls_loss: 0.1755 - val_box_loss: 0.0022 - val_reg_l2_loss: 0.0632 - val_loss: 0.3489\n",
            "Epoch 100/150\n",
            "7/7 [==============================] - 6s 883ms/step - det_loss: 0.3032 - cls_loss: 0.1868 - box_loss: 0.0023 - reg_l2_loss: 0.0632 - loss: 0.3664 - learning_rate: 0.0031 - gradient_norm: 1.5230 - val_det_loss: 0.2891 - val_cls_loss: 0.1830 - val_box_loss: 0.0021 - val_reg_l2_loss: 0.0632 - val_loss: 0.3523\n",
            "Epoch 101/150\n",
            "7/7 [==============================] - 6s 895ms/step - det_loss: 0.3288 - cls_loss: 0.2010 - box_loss: 0.0026 - reg_l2_loss: 0.0632 - loss: 0.3919 - learning_rate: 0.0030 - gradient_norm: 1.6544 - val_det_loss: 0.2860 - val_cls_loss: 0.1801 - val_box_loss: 0.0021 - val_reg_l2_loss: 0.0632 - val_loss: 0.3492\n",
            "Epoch 102/150\n",
            "7/7 [==============================] - 4s 578ms/step - det_loss: 0.3066 - cls_loss: 0.1887 - box_loss: 0.0024 - reg_l2_loss: 0.0632 - loss: 0.3698 - learning_rate: 0.0029 - gradient_norm: 1.4906 - val_det_loss: 0.2816 - val_cls_loss: 0.1764 - val_box_loss: 0.0021 - val_reg_l2_loss: 0.0632 - val_loss: 0.3447\n",
            "Epoch 103/150\n",
            "7/7 [==============================] - 4s 666ms/step - det_loss: 0.3244 - cls_loss: 0.1965 - box_loss: 0.0026 - reg_l2_loss: 0.0632 - loss: 0.3875 - learning_rate: 0.0028 - gradient_norm: 1.7350 - val_det_loss: 0.2937 - val_cls_loss: 0.1789 - val_box_loss: 0.0023 - val_reg_l2_loss: 0.0632 - val_loss: 0.3569\n",
            "Epoch 104/150\n",
            "7/7 [==============================] - 5s 786ms/step - det_loss: 0.3034 - cls_loss: 0.1859 - box_loss: 0.0024 - reg_l2_loss: 0.0632 - loss: 0.3666 - learning_rate: 0.0027 - gradient_norm: 1.7554 - val_det_loss: 0.2853 - val_cls_loss: 0.1772 - val_box_loss: 0.0022 - val_reg_l2_loss: 0.0632 - val_loss: 0.3485\n",
            "Epoch 105/150\n",
            "7/7 [==============================] - 6s 999ms/step - det_loss: 0.3063 - cls_loss: 0.1890 - box_loss: 0.0023 - reg_l2_loss: 0.0632 - loss: 0.3694 - learning_rate: 0.0026 - gradient_norm: 1.5543 - val_det_loss: 0.2849 - val_cls_loss: 0.1777 - val_box_loss: 0.0021 - val_reg_l2_loss: 0.0632 - val_loss: 0.3481\n",
            "Epoch 106/150\n",
            "7/7 [==============================] - 4s 580ms/step - det_loss: 0.3077 - cls_loss: 0.1846 - box_loss: 0.0025 - reg_l2_loss: 0.0632 - loss: 0.3708 - learning_rate: 0.0025 - gradient_norm: 1.6398 - val_det_loss: 0.2938 - val_cls_loss: 0.1774 - val_box_loss: 0.0023 - val_reg_l2_loss: 0.0632 - val_loss: 0.3570\n",
            "Epoch 107/150\n",
            "7/7 [==============================] - 4s 587ms/step - det_loss: 0.3338 - cls_loss: 0.1950 - box_loss: 0.0028 - reg_l2_loss: 0.0632 - loss: 0.3970 - learning_rate: 0.0023 - gradient_norm: 1.7741 - val_det_loss: 0.2840 - val_cls_loss: 0.1749 - val_box_loss: 0.0022 - val_reg_l2_loss: 0.0632 - val_loss: 0.3472\n",
            "Epoch 108/150\n",
            "7/7 [==============================] - 6s 1s/step - det_loss: 0.3343 - cls_loss: 0.2029 - box_loss: 0.0026 - reg_l2_loss: 0.0632 - loss: 0.3974 - learning_rate: 0.0022 - gradient_norm: 1.7646 - val_det_loss: 0.2837 - val_cls_loss: 0.1760 - val_box_loss: 0.0022 - val_reg_l2_loss: 0.0632 - val_loss: 0.3468\n",
            "Epoch 109/150\n",
            "7/7 [==============================] - 5s 693ms/step - det_loss: 0.3099 - cls_loss: 0.1860 - box_loss: 0.0025 - reg_l2_loss: 0.0632 - loss: 0.3730 - learning_rate: 0.0021 - gradient_norm: 1.6331 - val_det_loss: 0.2856 - val_cls_loss: 0.1764 - val_box_loss: 0.0022 - val_reg_l2_loss: 0.0632 - val_loss: 0.3488\n",
            "Epoch 110/150\n",
            "7/7 [==============================] - 5s 752ms/step - det_loss: 0.3074 - cls_loss: 0.1930 - box_loss: 0.0023 - reg_l2_loss: 0.0632 - loss: 0.3705 - learning_rate: 0.0020 - gradient_norm: 1.6647 - val_det_loss: 0.2754 - val_cls_loss: 0.1722 - val_box_loss: 0.0021 - val_reg_l2_loss: 0.0632 - val_loss: 0.3385\n",
            "Epoch 111/150\n",
            "7/7 [==============================] - 4s 650ms/step - det_loss: 0.2903 - cls_loss: 0.1756 - box_loss: 0.0023 - reg_l2_loss: 0.0632 - loss: 0.3535 - learning_rate: 0.0020 - gradient_norm: 1.5704 - val_det_loss: 0.2767 - val_cls_loss: 0.1721 - val_box_loss: 0.0021 - val_reg_l2_loss: 0.0632 - val_loss: 0.3399\n",
            "Epoch 112/150\n",
            "7/7 [==============================] - 6s 1s/step - det_loss: 0.3026 - cls_loss: 0.1902 - box_loss: 0.0022 - reg_l2_loss: 0.0632 - loss: 0.3657 - learning_rate: 0.0019 - gradient_norm: 1.4824 - val_det_loss: 0.2749 - val_cls_loss: 0.1712 - val_box_loss: 0.0021 - val_reg_l2_loss: 0.0632 - val_loss: 0.3381\n",
            "Epoch 113/150\n",
            "7/7 [==============================] - 4s 595ms/step - det_loss: 0.2998 - cls_loss: 0.1876 - box_loss: 0.0022 - reg_l2_loss: 0.0632 - loss: 0.3630 - learning_rate: 0.0018 - gradient_norm: 1.7039 - val_det_loss: 0.2783 - val_cls_loss: 0.1717 - val_box_loss: 0.0021 - val_reg_l2_loss: 0.0632 - val_loss: 0.3414\n",
            "Epoch 114/150\n",
            "7/7 [==============================] - 4s 591ms/step - det_loss: 0.3159 - cls_loss: 0.1949 - box_loss: 0.0024 - reg_l2_loss: 0.0632 - loss: 0.3790 - learning_rate: 0.0017 - gradient_norm: 1.6114 - val_det_loss: 0.2896 - val_cls_loss: 0.1810 - val_box_loss: 0.0022 - val_reg_l2_loss: 0.0632 - val_loss: 0.3528\n",
            "Epoch 115/150\n",
            "7/7 [==============================] - 6s 1s/step - det_loss: 0.2877 - cls_loss: 0.1746 - box_loss: 0.0023 - reg_l2_loss: 0.0632 - loss: 0.3509 - learning_rate: 0.0016 - gradient_norm: 1.4406 - val_det_loss: 0.2922 - val_cls_loss: 0.1802 - val_box_loss: 0.0022 - val_reg_l2_loss: 0.0632 - val_loss: 0.3553\n",
            "Epoch 116/150\n",
            "7/7 [==============================] - 5s 757ms/step - det_loss: 0.2979 - cls_loss: 0.1845 - box_loss: 0.0023 - reg_l2_loss: 0.0632 - loss: 0.3611 - learning_rate: 0.0015 - gradient_norm: 1.5049 - val_det_loss: 0.2818 - val_cls_loss: 0.1761 - val_box_loss: 0.0021 - val_reg_l2_loss: 0.0632 - val_loss: 0.3450\n",
            "Epoch 117/150\n",
            "7/7 [==============================] - 4s 685ms/step - det_loss: 0.3047 - cls_loss: 0.1866 - box_loss: 0.0024 - reg_l2_loss: 0.0632 - loss: 0.3679 - learning_rate: 0.0014 - gradient_norm: 1.5744 - val_det_loss: 0.2787 - val_cls_loss: 0.1753 - val_box_loss: 0.0021 - val_reg_l2_loss: 0.0632 - val_loss: 0.3419\n",
            "Epoch 118/150\n",
            "7/7 [==============================] - 4s 592ms/step - det_loss: 0.3012 - cls_loss: 0.1824 - box_loss: 0.0024 - reg_l2_loss: 0.0632 - loss: 0.3644 - learning_rate: 0.0013 - gradient_norm: 1.5885 - val_det_loss: 0.2798 - val_cls_loss: 0.1758 - val_box_loss: 0.0021 - val_reg_l2_loss: 0.0632 - val_loss: 0.3430\n",
            "Epoch 119/150\n",
            "7/7 [==============================] - 6s 956ms/step - det_loss: 0.3096 - cls_loss: 0.1881 - box_loss: 0.0024 - reg_l2_loss: 0.0632 - loss: 0.3727 - learning_rate: 0.0012 - gradient_norm: 1.6766 - val_det_loss: 0.2712 - val_cls_loss: 0.1708 - val_box_loss: 0.0020 - val_reg_l2_loss: 0.0632 - val_loss: 0.3343\n",
            "Epoch 120/150\n",
            "7/7 [==============================] - 5s 848ms/step - det_loss: 0.3011 - cls_loss: 0.1863 - box_loss: 0.0023 - reg_l2_loss: 0.0632 - loss: 0.3643 - learning_rate: 0.0012 - gradient_norm: 1.6565 - val_det_loss: 0.2672 - val_cls_loss: 0.1676 - val_box_loss: 0.0020 - val_reg_l2_loss: 0.0632 - val_loss: 0.3304\n",
            "Epoch 121/150\n",
            "7/7 [==============================] - 4s 668ms/step - det_loss: 0.2903 - cls_loss: 0.1782 - box_loss: 0.0022 - reg_l2_loss: 0.0632 - loss: 0.3535 - learning_rate: 0.0011 - gradient_norm: 1.4603 - val_det_loss: 0.2659 - val_cls_loss: 0.1651 - val_box_loss: 0.0020 - val_reg_l2_loss: 0.0632 - val_loss: 0.3291\n",
            "Epoch 122/150\n",
            "7/7 [==============================] - 4s 678ms/step - det_loss: 0.2928 - cls_loss: 0.1780 - box_loss: 0.0023 - reg_l2_loss: 0.0632 - loss: 0.3560 - learning_rate: 0.0010 - gradient_norm: 1.6707 - val_det_loss: 0.2696 - val_cls_loss: 0.1648 - val_box_loss: 0.0021 - val_reg_l2_loss: 0.0632 - val_loss: 0.3328\n",
            "Epoch 123/150\n",
            "7/7 [==============================] - 6s 917ms/step - det_loss: 0.2978 - cls_loss: 0.1798 - box_loss: 0.0024 - reg_l2_loss: 0.0632 - loss: 0.3610 - learning_rate: 9.5183e-04 - gradient_norm: 1.4961 - val_det_loss: 0.2660 - val_cls_loss: 0.1654 - val_box_loss: 0.0020 - val_reg_l2_loss: 0.0632 - val_loss: 0.3291\n",
            "Epoch 124/150\n",
            "7/7 [==============================] - 4s 597ms/step - det_loss: 0.2852 - cls_loss: 0.1747 - box_loss: 0.0022 - reg_l2_loss: 0.0632 - loss: 0.3484 - learning_rate: 8.8311e-04 - gradient_norm: 1.5428 - val_det_loss: 0.2639 - val_cls_loss: 0.1661 - val_box_loss: 0.0020 - val_reg_l2_loss: 0.0632 - val_loss: 0.3271\n",
            "Epoch 125/150\n",
            "7/7 [==============================] - 5s 736ms/step - det_loss: 0.3277 - cls_loss: 0.2053 - box_loss: 0.0024 - reg_l2_loss: 0.0632 - loss: 0.3909 - learning_rate: 8.1679e-04 - gradient_norm: 1.6253 - val_det_loss: 0.2630 - val_cls_loss: 0.1667 - val_box_loss: 0.0019 - val_reg_l2_loss: 0.0632 - val_loss: 0.3262\n",
            "Epoch 126/150\n",
            "7/7 [==============================] - 6s 921ms/step - det_loss: 0.2962 - cls_loss: 0.1764 - box_loss: 0.0024 - reg_l2_loss: 0.0632 - loss: 0.3594 - learning_rate: 7.5287e-04 - gradient_norm: 1.6004 - val_det_loss: 0.2689 - val_cls_loss: 0.1683 - val_box_loss: 0.0020 - val_reg_l2_loss: 0.0632 - val_loss: 0.3321\n",
            "Epoch 127/150\n",
            "7/7 [==============================] - 5s 788ms/step - det_loss: 0.3225 - cls_loss: 0.2014 - box_loss: 0.0024 - reg_l2_loss: 0.0632 - loss: 0.3856 - learning_rate: 6.9140e-04 - gradient_norm: 1.7380 - val_det_loss: 0.2716 - val_cls_loss: 0.1685 - val_box_loss: 0.0021 - val_reg_l2_loss: 0.0632 - val_loss: 0.3347\n",
            "Epoch 128/150\n",
            "7/7 [==============================] - 4s 597ms/step - det_loss: 0.3047 - cls_loss: 0.1883 - box_loss: 0.0023 - reg_l2_loss: 0.0632 - loss: 0.3678 - learning_rate: 6.3240e-04 - gradient_norm: 1.6425 - val_det_loss: 0.2707 - val_cls_loss: 0.1688 - val_box_loss: 0.0020 - val_reg_l2_loss: 0.0632 - val_loss: 0.3338\n",
            "Epoch 129/150\n",
            "7/7 [==============================] - 4s 596ms/step - det_loss: 0.3199 - cls_loss: 0.1921 - box_loss: 0.0026 - reg_l2_loss: 0.0632 - loss: 0.3831 - learning_rate: 5.7590e-04 - gradient_norm: 1.6843 - val_det_loss: 0.2702 - val_cls_loss: 0.1687 - val_box_loss: 0.0020 - val_reg_l2_loss: 0.0632 - val_loss: 0.3334\n",
            "Epoch 130/150\n",
            "7/7 [==============================] - 8s 1s/step - det_loss: 0.2994 - cls_loss: 0.1895 - box_loss: 0.0022 - reg_l2_loss: 0.0632 - loss: 0.3625 - learning_rate: 5.2192e-04 - gradient_norm: 1.7578 - val_det_loss: 0.2671 - val_cls_loss: 0.1679 - val_box_loss: 0.0020 - val_reg_l2_loss: 0.0632 - val_loss: 0.3303\n",
            "Epoch 131/150\n",
            "7/7 [==============================] - 4s 596ms/step - det_loss: 0.2889 - cls_loss: 0.1741 - box_loss: 0.0023 - reg_l2_loss: 0.0632 - loss: 0.3520 - learning_rate: 4.7048e-04 - gradient_norm: 1.4684 - val_det_loss: 0.2651 - val_cls_loss: 0.1677 - val_box_loss: 0.0019 - val_reg_l2_loss: 0.0632 - val_loss: 0.3283\n",
            "Epoch 132/150\n",
            "7/7 [==============================] - 4s 593ms/step - det_loss: 0.3043 - cls_loss: 0.1901 - box_loss: 0.0023 - reg_l2_loss: 0.0632 - loss: 0.3675 - learning_rate: 4.2162e-04 - gradient_norm: 1.7058 - val_det_loss: 0.2650 - val_cls_loss: 0.1677 - val_box_loss: 0.0019 - val_reg_l2_loss: 0.0632 - val_loss: 0.3282\n",
            "Epoch 133/150\n",
            "7/7 [==============================] - 5s 745ms/step - det_loss: 0.2977 - cls_loss: 0.1882 - box_loss: 0.0022 - reg_l2_loss: 0.0632 - loss: 0.3609 - learning_rate: 3.7534e-04 - gradient_norm: 1.5876 - val_det_loss: 0.2656 - val_cls_loss: 0.1676 - val_box_loss: 0.0020 - val_reg_l2_loss: 0.0632 - val_loss: 0.3288\n",
            "Epoch 134/150\n",
            "7/7 [==============================] - 6s 945ms/step - det_loss: 0.3126 - cls_loss: 0.1895 - box_loss: 0.0025 - reg_l2_loss: 0.0632 - loss: 0.3758 - learning_rate: 3.3168e-04 - gradient_norm: 1.7051 - val_det_loss: 0.2669 - val_cls_loss: 0.1678 - val_box_loss: 0.0020 - val_reg_l2_loss: 0.0632 - val_loss: 0.3300\n",
            "Epoch 135/150\n",
            "7/7 [==============================] - 5s 738ms/step - det_loss: 0.2822 - cls_loss: 0.1760 - box_loss: 0.0021 - reg_l2_loss: 0.0632 - loss: 0.3454 - learning_rate: 2.9065e-04 - gradient_norm: 1.5038 - val_det_loss: 0.2661 - val_cls_loss: 0.1676 - val_box_loss: 0.0020 - val_reg_l2_loss: 0.0632 - val_loss: 0.3292\n",
            "Epoch 136/150\n",
            "7/7 [==============================] - 4s 596ms/step - det_loss: 0.3018 - cls_loss: 0.1878 - box_loss: 0.0023 - reg_l2_loss: 0.0632 - loss: 0.3650 - learning_rate: 2.5227e-04 - gradient_norm: 1.8622 - val_det_loss: 0.2638 - val_cls_loss: 0.1675 - val_box_loss: 0.0019 - val_reg_l2_loss: 0.0632 - val_loss: 0.3270\n",
            "Epoch 137/150\n",
            "7/7 [==============================] - 6s 909ms/step - det_loss: 0.2802 - cls_loss: 0.1775 - box_loss: 0.0021 - reg_l2_loss: 0.0632 - loss: 0.3434 - learning_rate: 2.1655e-04 - gradient_norm: 1.4187 - val_det_loss: 0.2631 - val_cls_loss: 0.1678 - val_box_loss: 0.0019 - val_reg_l2_loss: 0.0632 - val_loss: 0.3263\n",
            "Epoch 138/150\n",
            "7/7 [==============================] - 5s 710ms/step - det_loss: 0.3232 - cls_loss: 0.1995 - box_loss: 0.0025 - reg_l2_loss: 0.0632 - loss: 0.3864 - learning_rate: 1.8352e-04 - gradient_norm: 1.6302 - val_det_loss: 0.2619 - val_cls_loss: 0.1675 - val_box_loss: 0.0019 - val_reg_l2_loss: 0.0632 - val_loss: 0.3251\n",
            "Epoch 139/150\n",
            "7/7 [==============================] - 4s 673ms/step - det_loss: 0.3092 - cls_loss: 0.1902 - box_loss: 0.0024 - reg_l2_loss: 0.0632 - loss: 0.3723 - learning_rate: 1.5318e-04 - gradient_norm: 1.8214 - val_det_loss: 0.2609 - val_cls_loss: 0.1672 - val_box_loss: 0.0019 - val_reg_l2_loss: 0.0632 - val_loss: 0.3240\n",
            "Epoch 140/150\n",
            "7/7 [==============================] - 5s 837ms/step - det_loss: 0.3394 - cls_loss: 0.2012 - box_loss: 0.0028 - reg_l2_loss: 0.0632 - loss: 0.4026 - learning_rate: 1.2555e-04 - gradient_norm: 1.8734 - val_det_loss: 0.2606 - val_cls_loss: 0.1673 - val_box_loss: 0.0019 - val_reg_l2_loss: 0.0632 - val_loss: 0.3238\n",
            "Epoch 141/150\n",
            "7/7 [==============================] - 6s 891ms/step - det_loss: 0.2920 - cls_loss: 0.1785 - box_loss: 0.0023 - reg_l2_loss: 0.0632 - loss: 0.3552 - learning_rate: 1.0065e-04 - gradient_norm: 1.4751 - val_det_loss: 0.2604 - val_cls_loss: 0.1674 - val_box_loss: 0.0019 - val_reg_l2_loss: 0.0632 - val_loss: 0.3236\n",
            "Epoch 142/150\n",
            "7/7 [==============================] - 4s 622ms/step - det_loss: 0.3091 - cls_loss: 0.1908 - box_loss: 0.0024 - reg_l2_loss: 0.0632 - loss: 0.3722 - learning_rate: 7.8479e-05 - gradient_norm: 1.6335 - val_det_loss: 0.2606 - val_cls_loss: 0.1676 - val_box_loss: 0.0019 - val_reg_l2_loss: 0.0632 - val_loss: 0.3237\n",
            "Epoch 143/150\n",
            "7/7 [==============================] - 4s 684ms/step - det_loss: 0.3054 - cls_loss: 0.1887 - box_loss: 0.0023 - reg_l2_loss: 0.0632 - loss: 0.3686 - learning_rate: 5.9051e-05 - gradient_norm: 1.5705 - val_det_loss: 0.2608 - val_cls_loss: 0.1677 - val_box_loss: 0.0019 - val_reg_l2_loss: 0.0632 - val_loss: 0.3240\n",
            "Epoch 144/150\n",
            "7/7 [==============================] - 5s 714ms/step - det_loss: 0.2958 - cls_loss: 0.1819 - box_loss: 0.0023 - reg_l2_loss: 0.0632 - loss: 0.3589 - learning_rate: 4.2376e-05 - gradient_norm: 1.5339 - val_det_loss: 0.2608 - val_cls_loss: 0.1678 - val_box_loss: 0.0019 - val_reg_l2_loss: 0.0632 - val_loss: 0.3239\n",
            "Epoch 145/150\n",
            "7/7 [==============================] - 7s 1s/step - det_loss: 0.3333 - cls_loss: 0.2041 - box_loss: 0.0026 - reg_l2_loss: 0.0632 - loss: 0.3964 - learning_rate: 2.8461e-05 - gradient_norm: 1.8052 - val_det_loss: 0.2606 - val_cls_loss: 0.1678 - val_box_loss: 0.0019 - val_reg_l2_loss: 0.0632 - val_loss: 0.3238\n",
            "Epoch 146/150\n",
            "7/7 [==============================] - 4s 604ms/step - det_loss: 0.2795 - cls_loss: 0.1710 - box_loss: 0.0022 - reg_l2_loss: 0.0632 - loss: 0.3426 - learning_rate: 1.7311e-05 - gradient_norm: 1.3646 - val_det_loss: 0.2606 - val_cls_loss: 0.1677 - val_box_loss: 0.0019 - val_reg_l2_loss: 0.0632 - val_loss: 0.3237\n",
            "Epoch 147/150\n",
            "7/7 [==============================] - 4s 602ms/step - det_loss: 0.2797 - cls_loss: 0.1721 - box_loss: 0.0022 - reg_l2_loss: 0.0632 - loss: 0.3428 - learning_rate: 8.9321e-06 - gradient_norm: 1.5271 - val_det_loss: 0.2606 - val_cls_loss: 0.1677 - val_box_loss: 0.0019 - val_reg_l2_loss: 0.0632 - val_loss: 0.3237\n",
            "Epoch 148/150\n",
            "7/7 [==============================] - 6s 965ms/step - det_loss: 0.2971 - cls_loss: 0.1795 - box_loss: 0.0024 - reg_l2_loss: 0.0632 - loss: 0.3602 - learning_rate: 3.3274e-06 - gradient_norm: 1.4716 - val_det_loss: 0.2604 - val_cls_loss: 0.1676 - val_box_loss: 0.0019 - val_reg_l2_loss: 0.0632 - val_loss: 0.3236\n",
            "Epoch 149/150\n",
            "7/7 [==============================] - 5s 766ms/step - det_loss: 0.3230 - cls_loss: 0.1967 - box_loss: 0.0025 - reg_l2_loss: 0.0632 - loss: 0.3861 - learning_rate: 4.9970e-07 - gradient_norm: 1.7291 - val_det_loss: 0.2606 - val_cls_loss: 0.1676 - val_box_loss: 0.0019 - val_reg_l2_loss: 0.0632 - val_loss: 0.3238\n",
            "Epoch 150/150\n",
            "7/7 [==============================] - 5s 736ms/step - det_loss: 0.3300 - cls_loss: 0.2070 - box_loss: 0.0025 - reg_l2_loss: 0.0632 - loss: 0.3932 - learning_rate: 4.5011e-07 - gradient_norm: 1.7295 - val_det_loss: 0.2605 - val_cls_loss: 0.1676 - val_box_loss: 0.0019 - val_reg_l2_loss: 0.0632 - val_loss: 0.3236\n"
          ]
        }
      ],
      "source": [
        "model = object_detector.create(train_data, model_spec=spec, batch_size=10, train_whole_model=True, epochs=150, validation_data=val_data)"
      ]
    },
    {
      "cell_type": "code",
      "execution_count": null,
      "metadata": {
        "colab": {
          "base_uri": "https://localhost:8080/"
        },
        "id": "OUqEpcYwAg8L",
        "outputId": "7fdb156c-3f87-49bd-ad4d-2bfaf40f4aa1"
      },
      "outputs": [
        {
          "output_type": "stream",
          "name": "stdout",
          "text": [
            "\r1/1 [==============================] - 5s 5s/step\n",
            "\n"
          ]
        },
        {
          "output_type": "execute_result",
          "data": {
            "text/plain": [
              "{'AP': 0.6187922,\n",
              " 'AP50': 1.0,\n",
              " 'AP75': 0.6996989,\n",
              " 'APs': 0.43465346,\n",
              " 'APm': 0.6274965,\n",
              " 'APl': -1.0,\n",
              " 'ARmax1': 0.29213327,\n",
              " 'ARmax10': 0.68146694,\n",
              " 'ARmax100': 0.6862262,\n",
              " 'ARs': 0.43333334,\n",
              " 'ARm': 0.69473684,\n",
              " 'ARl': -1.0,\n",
              " 'AP_/vis': 0.6358155,\n",
              " 'AP_/ecrou': 0.6017688}"
            ]
          },
          "metadata": {},
          "execution_count": 9
        }
      ],
      "source": [
        "model.evaluate(val_data)"
      ]
    },
    {
      "cell_type": "code",
      "execution_count": null,
      "metadata": {
        "id": "_u3eFxoBAiqE"
      },
      "outputs": [],
      "source": [
        "model.export(export_dir='.', tflite_filename='modelv1.tflite')"
      ]
    },
    {
      "cell_type": "markdown",
      "metadata": {
        "id": "JZcBmEigOCO3"
      },
      "source": [
        "###Evaluate our TensorFlow Lite model.\n",
        "\n",
        "Several factors can affect the model accuracy when exporting to TFLite:\n",
        "* [Quantization](https://www.tensorflow.org/lite/performance/model_optimization) helps shrinking the model size by 4 times at the expense of some accuracy drop.\n",
        "* The original TensorFlow model uses per-class [non-max supression (NMS)](https://www.coursera.org/lecture/convolutional-neural-networks/non-max-suppression-dvrjH) for post-processing, while the TFLite model uses global NMS that's much faster but less accurate.\n",
        "Keras outputs maximum 100 detections while tflite outputs maximum 25 detections.\n",
        "\n",
        "Therefore you'll have to evaluate the exported TFLite model and compare its accuracy with the original TensorFlow model."
      ]
    },
    {
      "cell_type": "code",
      "execution_count": null,
      "metadata": {
        "colab": {
          "base_uri": "https://localhost:8080/"
        },
        "id": "Jbl8z9_wBPlr",
        "outputId": "6e055c1d-da42-4b24-ca79-640434b72fd8"
      },
      "outputs": [
        {
          "output_type": "stream",
          "name": "stdout",
          "text": [
            "17/17 [==============================] - 50s 3s/step\n",
            "\n"
          ]
        },
        {
          "output_type": "execute_result",
          "data": {
            "text/plain": [
              "{'AP': 0.6054285,\n",
              " 'AP50': 1.0,\n",
              " 'AP75': 0.6673623,\n",
              " 'APs': 0.33366337,\n",
              " 'APm': 0.615322,\n",
              " 'APl': -1.0,\n",
              " 'ARmax1': 0.29081747,\n",
              " 'ARmax10': 0.65229565,\n",
              " 'ARmax100': 0.65229565,\n",
              " 'ARs': 0.33333334,\n",
              " 'ARm': 0.6626196,\n",
              " 'ARl': -1.0,\n",
              " 'AP_/vis': 0.6278649,\n",
              " 'AP_/ecrou': 0.5829922}"
            ]
          },
          "metadata": {},
          "execution_count": 13
        }
      ],
      "source": [
        "model.evaluate_tflite('modelv1.tflite', val_data)"
      ]
    },
    {
      "cell_type": "code",
      "execution_count": null,
      "metadata": {
        "colab": {
          "base_uri": "https://localhost:8080/",
          "height": 17
        },
        "id": "v7zgUkdOUUnD",
        "outputId": "5d7c4856-d6c3-4b57-9af0-3617262c4672"
      },
      "outputs": [
        {
          "output_type": "display_data",
          "data": {
            "text/plain": [
              "<IPython.core.display.Javascript object>"
            ],
            "application/javascript": [
              "\n",
              "    async function download(id, filename, size) {\n",
              "      if (!google.colab.kernel.accessAllowed) {\n",
              "        return;\n",
              "      }\n",
              "      const div = document.createElement('div');\n",
              "      const label = document.createElement('label');\n",
              "      label.textContent = `Downloading \"${filename}\": `;\n",
              "      div.appendChild(label);\n",
              "      const progress = document.createElement('progress');\n",
              "      progress.max = size;\n",
              "      div.appendChild(progress);\n",
              "      document.body.appendChild(div);\n",
              "\n",
              "      const buffers = [];\n",
              "      let downloaded = 0;\n",
              "\n",
              "      const channel = await google.colab.kernel.comms.open(id);\n",
              "      // Send a message to notify the kernel that we're ready.\n",
              "      channel.send({})\n",
              "\n",
              "      for await (const message of channel.messages) {\n",
              "        // Send a message to notify the kernel that we're ready.\n",
              "        channel.send({})\n",
              "        if (message.buffers) {\n",
              "          for (const buffer of message.buffers) {\n",
              "            buffers.push(buffer);\n",
              "            downloaded += buffer.byteLength;\n",
              "            progress.value = downloaded;\n",
              "          }\n",
              "        }\n",
              "      }\n",
              "      const blob = new Blob(buffers, {type: 'application/binary'});\n",
              "      const a = document.createElement('a');\n",
              "      a.href = window.URL.createObjectURL(blob);\n",
              "      a.download = filename;\n",
              "      div.appendChild(a);\n",
              "      a.click();\n",
              "      div.remove();\n",
              "    }\n",
              "  "
            ]
          },
          "metadata": {}
        },
        {
          "output_type": "display_data",
          "data": {
            "text/plain": [
              "<IPython.core.display.Javascript object>"
            ],
            "application/javascript": [
              "download(\"download_9d3aa023-007e-442e-a387-1ebfceafad31\", \"modelv1.tflite\", 4444716)"
            ]
          },
          "metadata": {}
        }
      ],
      "source": [
        "# Download the TFLite model to your local computer.\n",
        "from google.colab import files\n",
        "files.download('modelv1.tflite')"
      ]
    }
  ],
  "metadata": {
    "accelerator": "GPU",
    "colab": {
      "provenance": []
    },
    "kernelspec": {
      "display_name": "Python 3",
      "name": "python3"
    },
    "language_info": {
      "name": "python"
    }
  },
  "nbformat": 4,
  "nbformat_minor": 0
}